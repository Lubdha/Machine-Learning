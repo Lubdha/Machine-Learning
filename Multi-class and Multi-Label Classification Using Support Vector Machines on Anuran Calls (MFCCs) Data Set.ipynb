{
 "cells": [
  {
   "cell_type": "markdown",
   "metadata": {
    "colab_type": "text",
    "id": "GZ55IIgezxN5"
   },
   "source": [
    "### Multi-class and Multi-Label Classification Using Support Vector Machines on Anuran Calls (MFCCs) Data Set"
   ]
  },
  {
   "cell_type": "markdown",
   "metadata": {
    "colab_type": "text",
    "id": "Ftk05ygKzxN6"
   },
   "source": [
    "### (a) Download the Anuran Calls (MFCCs) Data Set from: https://archive.ics.uci.edu/ml/datasets/Anuran+Calls+%28MFCCs). \n",
    "\n",
    "Choose 70% of the data randomly as the training set."
   ]
  },
  {
   "cell_type": "code",
   "execution_count": 0,
   "metadata": {
    "colab": {
     "autoexec": {
      "startup": false,
      "wait_interval": 0
     }
    },
    "colab_type": "code",
    "id": "hCiyWTWLzxN6"
   },
   "outputs": [],
   "source": [
    "import pandas as pd\n",
    "import sklearn\n",
    "from sklearn.svm import SVC\n",
    "from sklearn.svm import LinearSVC\n",
    "from sklearn.naive_bayes import GaussianNB\n",
    "from sklearn.model_selection import train_test_split\n",
    "from sklearn.metrics import hamming_loss\n",
    "from sklearn.metrics import accuracy_score\n",
    "from sklearn.model_selection import cross_val_score\n",
    "import scipy as s\n",
    "from imblearn.over_sampling import SMOTE"
   ]
  },
  {
   "cell_type": "code",
   "execution_count": 0,
   "metadata": {
    "colab": {
     "autoexec": {
      "startup": false,
      "wait_interval": 0
     }
    },
    "colab_type": "code",
    "id": "WSU3h_YozxN9"
   },
   "outputs": [],
   "source": [
    "df= pd.read_csv(\"Frogs_MFCCs.csv\")"
   ]
  },
  {
   "cell_type": "code",
   "execution_count": 0,
   "metadata": {
    "colab": {
     "autoexec": {
      "startup": false,
      "wait_interval": 0
     }
    },
    "colab_type": "code",
    "id": "tKpOgRpizxOA"
   },
   "outputs": [],
   "source": [
    "X= df.drop(columns=['Family','Genus','Species','RecordID'])\n",
    "y= df[['Family','Genus','Species']]\n",
    "X_train, X_test, y_train, y_test= train_test_split(X,y,test_size= 0.3,shuffle= True)"
   ]
  },
  {
   "cell_type": "markdown",
   "metadata": {
    "colab_type": "text",
    "id": "IG9Hn5-jzxOC"
   },
   "source": [
    "### (b) Each instance has three labels: Families, Genus, and Species. Each of the labels has multiple classes. We wish to solve a multi-class and multi-label problem. One of the most important approaches to multi-class classification is to train a classifier for each label."
   ]
  },
  {
   "cell_type": "code",
   "execution_count": 0,
   "metadata": {
    "colab": {
     "autoexec": {
      "startup": false,
      "wait_interval": 0
     }
    },
    "colab_type": "code",
    "id": "XlzftE2nzxOD"
   },
   "outputs": [],
   "source": [
    "classifier = SVC()"
   ]
  },
  {
   "cell_type": "code",
   "execution_count": 0,
   "metadata": {
    "colab": {
     "autoexec": {
      "startup": false,
      "wait_interval": 0
     }
    },
    "colab_type": "code",
    "id": "dZu5CK7vzxOG"
   },
   "outputs": [],
   "source": [
    "cv_score=[0,0,0]\n",
    "cv_score_best=[0,0,0]\n",
    "c_best=[0,0,0]\n",
    "g_best=[0,0,0]"
   ]
  },
  {
   "cell_type": "code",
   "execution_count": 0,
   "metadata": {
    "colab": {
     "autoexec": {
      "startup": false,
      "wait_interval": 0
     }
    },
    "colab_type": "code",
    "id": "8Kl6ohrdzxOI"
   },
   "outputs": [],
   "source": [
    "for i in range(0,3):\n",
    "    for c in range(-3,4):\n",
    "        for sigma in range(1,20,1):\n",
    "            cv_score[i]= cross_val_score(SVC(C= 10**c,gamma= 1/(2*(sigma/10)**2),decision_function_shape= 'ovr'),X_train,y_train.iloc[:,i], cv=10, scoring='accuracy').mean()\n",
    "            if cv_score[i] > cv_score_best[i]:\n",
    "                cv_score_best[i]= cv_score[i]\n",
    "                c_best[i]= 10**c\n",
    "                g_best[i]= 1/(2*(sigma/10)**2)"
   ]
  },
  {
   "cell_type": "code",
   "execution_count": 0,
   "metadata": {
    "colab": {
     "autoexec": {
      "startup": false,
      "wait_interval": 0
     }
    },
    "colab_type": "code",
    "id": "tziGIukxzxOK",
    "outputId": "87b6ea5e-f36b-4719-9624-498aa79596ce"
   },
   "outputs": [
    {
     "data": {
      "text/plain": [
       "[100, 10, 10]"
      ]
     },
     "execution_count": 447,
     "metadata": {
      "tags": []
     },
     "output_type": "execute_result"
    }
   ],
   "source": [
    "c_best"
   ]
  },
  {
   "cell_type": "code",
   "execution_count": 0,
   "metadata": {
    "colab": {
     "autoexec": {
      "startup": false,
      "wait_interval": 0
     }
    },
    "colab_type": "code",
    "id": "H8nMU7VNzxOO",
    "outputId": "7db884a8-5e00-4dd1-c7ea-8e84fdc47ffb"
   },
   "outputs": [
    {
     "data": {
      "text/plain": [
       "[3.1249999999999996, 1.0204081632653064, 1.3888888888888888]"
      ]
     },
     "execution_count": 448,
     "metadata": {
      "tags": []
     },
     "output_type": "execute_result"
    }
   ],
   "source": [
    "g_best"
   ]
  },
  {
   "cell_type": "code",
   "execution_count": 0,
   "metadata": {
    "colab": {
     "autoexec": {
      "startup": false,
      "wait_interval": 0
     }
    },
    "colab_type": "code",
    "id": "nKOxTD8UzxOS"
   },
   "outputs": [],
   "source": [
    "classifier1 = SVC(C= c_best[0], gamma= g_best[0],decision_function_shape= 'ovr')\n",
    "clf1 = classifier1.fit(X_train,y_train.iloc[:,0])\n",
    "y_pred1= clf1.predict(X_test)\n",
    "\n",
    "classifier2 = SVC(C= c_best[1], gamma= g_best[1],decision_function_shape= 'ovr')\n",
    "clf2 = classifier2.fit(X_train,y_train.iloc[:,1])\n",
    "y_pred2= clf2.predict(X_test)\n",
    "\n",
    "classifier3 = SVC(C= c_best[2], gamma= g_best[2],decision_function_shape= 'ovr')\n",
    "clf3 = classifier3.fit(X_train,y_train.iloc[:,2])\n",
    "y_pred3= clf3.predict(X_test)"
   ]
  },
  {
   "cell_type": "code",
   "execution_count": 0,
   "metadata": {
    "colab": {
     "autoexec": {
      "startup": false,
      "wait_interval": 0
     }
    },
    "colab_type": "code",
    "id": "GKW97gvyzxOU"
   },
   "outputs": [],
   "source": [
    "y_pred= [y_pred1, y_pred2, y_pred3]"
   ]
  },
  {
   "cell_type": "markdown",
   "metadata": {
    "colab_type": "text",
    "id": "OXCzzv2MzxOX"
   },
   "source": [
    "### i. Exact match and hamming score/ loss methods for evaluation of multilabel classification "
   ]
  },
  {
   "cell_type": "code",
   "execution_count": 0,
   "metadata": {
    "colab": {
     "autoexec": {
      "startup": false,
      "wait_interval": 0
     }
    },
    "colab_type": "code",
    "id": "eaL3xajBzxOa"
   },
   "outputs": [],
   "source": [
    "exact_match=0\n",
    "for i in range(0, len(y_pred1)):\n",
    "    if (y_pred1[i]== y_test.iloc[i,0] and y_pred2[i]== y_test.iloc[i,1] and y_pred3[i]== y_test.iloc[i,2]):\n",
    "        exact_match = exact_match +1\n",
    "exact_match= exact_match/len(y_pred1)"
   ]
  },
  {
   "cell_type": "code",
   "execution_count": 0,
   "metadata": {
    "colab": {
     "autoexec": {
      "startup": false,
      "wait_interval": 0
     }
    },
    "colab_type": "code",
    "id": "GFhX1w61zxOc",
    "outputId": "4692bdcf-1dc2-4442-9138-029c9daeaf57"
   },
   "outputs": [
    {
     "data": {
      "text/plain": [
       "0.9856415006947661"
      ]
     },
     "execution_count": 452,
     "metadata": {
      "tags": []
     },
     "output_type": "execute_result"
    }
   ],
   "source": [
    "exact_match"
   ]
  },
  {
   "cell_type": "code",
   "execution_count": 0,
   "metadata": {
    "colab": {
     "autoexec": {
      "startup": false,
      "wait_interval": 0
     }
    },
    "colab_type": "code",
    "id": "TJKhQyq4zxOf"
   },
   "outputs": [],
   "source": [
    "hamming_loss= pd.Series( s.zeros( len(y_pred1)) )\n",
    "for i in range(0,len(y_pred1)):\n",
    "    h_loss=0\n",
    "    for j in range(0,3):\n",
    "        if (y_pred[j][i] != y_test.iloc[i,j]):\n",
    "            h_loss= h_loss +1;\n",
    "        h_loss= h_loss/3\n",
    "    hamming_loss[i]= h_loss\n",
    "hamming_loss_value= hamming_loss.mean()       "
   ]
  },
  {
   "cell_type": "code",
   "execution_count": 0,
   "metadata": {
    "colab": {
     "autoexec": {
      "startup": false,
      "wait_interval": 0
     }
    },
    "colab_type": "code",
    "id": "dTVyEPnozxOh",
    "outputId": "b3ce6904-e0a1-4354-a8e3-aa16436712af"
   },
   "outputs": [
    {
     "data": {
      "text/plain": [
       "0.005626747636937539"
      ]
     },
     "execution_count": 454,
     "metadata": {
      "tags": []
     },
     "output_type": "execute_result"
    }
   ],
   "source": [
    "hamming_loss_value"
   ]
  },
  {
   "cell_type": "markdown",
   "metadata": {
    "colab_type": "text",
    "id": "7ormVQ6izxOk"
   },
   "source": [
    "### iii. Repeat 1(b)ii with L1-penalized SVMs. \n",
    "\n",
    "Let's normalize the attributes."
   ]
  },
  {
   "cell_type": "code",
   "execution_count": 0,
   "metadata": {
    "colab": {
     "autoexec": {
      "startup": false,
      "wait_interval": 0
     }
    },
    "colab_type": "code",
    "id": "UgsQr8jDzxOl"
   },
   "outputs": [],
   "source": [
    "classifier = LinearSVC()"
   ]
  },
  {
   "cell_type": "code",
   "execution_count": 0,
   "metadata": {
    "colab": {
     "autoexec": {
      "startup": false,
      "wait_interval": 0
     }
    },
    "colab_type": "code",
    "id": "gcpNeBIKzxOm"
   },
   "outputs": [],
   "source": [
    "cv_score=[0,0,0]\n",
    "cv_score_best=[0,0,0]\n",
    "c_best=[0,0,0]"
   ]
  },
  {
   "cell_type": "code",
   "execution_count": 0,
   "metadata": {
    "colab": {
     "autoexec": {
      "startup": false,
      "wait_interval": 0
     }
    },
    "colab_type": "code",
    "id": "fiE9ZHvZzxOq"
   },
   "outputs": [],
   "source": [
    "for i in range(0,3):\n",
    "    for c in range(-3,4):\n",
    "        cv_score[i]= cross_val_score(LinearSVC(penalty ='l1',C= 10**c, dual=False),X_train,y_train.iloc[:,i], cv=10, scoring='accuracy').mean()\n",
    "        if cv_score[i]> cv_score_best[i]:\n",
    "            cv_score_best[i]= cv_score[i]\n",
    "            c_best[i]= 10**c"
   ]
  },
  {
   "cell_type": "code",
   "execution_count": 13,
   "metadata": {
    "colab": {
     "autoexec": {
      "startup": false,
      "wait_interval": 0
     },
     "base_uri": "https://localhost:8080/",
     "height": 34
    },
    "colab_type": "code",
    "executionInfo": {
     "elapsed": 347,
     "status": "ok",
     "timestamp": 1531807745561,
     "user": {
      "displayName": "Lubdha Pimpale",
      "photoUrl": "https://lh3.googleusercontent.com/a/default-user=s128",
      "userId": "105610488684948453539"
     },
     "user_tz": 420
    },
    "id": "6GXQCIR6zxOs",
    "outputId": "f218552d-c3c4-45e1-ff04-5a6a9be71515"
   },
   "outputs": [
    {
     "data": {
      "text/plain": [
       "[10, 100, 10]"
      ]
     },
     "execution_count": 13,
     "metadata": {
      "tags": []
     },
     "output_type": "execute_result"
    }
   ],
   "source": [
    "c_best"
   ]
  },
  {
   "cell_type": "code",
   "execution_count": 0,
   "metadata": {
    "colab": {
     "autoexec": {
      "startup": false,
      "wait_interval": 0
     }
    },
    "colab_type": "code",
    "id": "ULnNRiJtzxOv"
   },
   "outputs": [],
   "source": [
    "classifier1 = LinearSVC(penalty='l1', C= c_best[0],dual=False)\n",
    "clf1 = classifier1.fit(X_train,y_train.iloc[:,0])\n",
    "y_pred1= clf1.predict(X_test)\n",
    "\n",
    "classifier2 = LinearSVC(penalty='l1', C= c_best[1], dual= False)\n",
    "clf2 = classifier2.fit(X_train,y_train.iloc[:,1])\n",
    "y_pred2= clf2.predict(X_test)\n",
    "\n",
    "classifier3 = LinearSVC(penalty='l1', C= c_best[2], dual= False)\n",
    "clf3 = classifier3.fit(X_train,y_train.iloc[:,2])\n",
    "y_pred3= clf3.predict(X_test)"
   ]
  },
  {
   "cell_type": "code",
   "execution_count": 0,
   "metadata": {
    "colab": {
     "autoexec": {
      "startup": false,
      "wait_interval": 0
     }
    },
    "colab_type": "code",
    "id": "Zdmc9xxHzxOw"
   },
   "outputs": [],
   "source": [
    "y_pred= [y_pred1, y_pred2, y_pred3]"
   ]
  },
  {
   "cell_type": "code",
   "execution_count": 0,
   "metadata": {
    "colab": {
     "autoexec": {
      "startup": false,
      "wait_interval": 0
     }
    },
    "colab_type": "code",
    "id": "e3epoJ2UzxOx"
   },
   "outputs": [],
   "source": [
    "exact_match=0\n",
    "for i in range(0, len(y_pred1)):\n",
    "    if (y_pred1[i]== y_test.iloc[i,0] and y_pred2[i]== y_test.iloc[i,1] and y_pred3[i]== y_test.iloc[i,2]):\n",
    "        exact_match = exact_match +1\n",
    "exact_match= exact_match/len(y_pred1)"
   ]
  },
  {
   "cell_type": "code",
   "execution_count": 17,
   "metadata": {
    "colab": {
     "autoexec": {
      "startup": false,
      "wait_interval": 0
     },
     "base_uri": "https://localhost:8080/",
     "height": 34
    },
    "colab_type": "code",
    "executionInfo": {
     "elapsed": 330,
     "status": "ok",
     "timestamp": 1531807775962,
     "user": {
      "displayName": "Lubdha Pimpale",
      "photoUrl": "https://lh3.googleusercontent.com/a/default-user=s128",
      "userId": "105610488684948453539"
     },
     "user_tz": 420
    },
    "id": "qup6KlI1zxOz",
    "outputId": "552bc89a-c6ed-4ccc-9fef-f6bf38c6f946"
   },
   "outputs": [
    {
     "data": {
      "text/plain": [
       "0.9157017137563687"
      ]
     },
     "execution_count": 17,
     "metadata": {
      "tags": []
     },
     "output_type": "execute_result"
    }
   ],
   "source": [
    "exact_match"
   ]
  },
  {
   "cell_type": "code",
   "execution_count": 0,
   "metadata": {
    "colab": {
     "autoexec": {
      "startup": false,
      "wait_interval": 0
     }
    },
    "colab_type": "code",
    "id": "kzf1FjR5zxO2"
   },
   "outputs": [],
   "source": [
    "hamming_loss= pd.Series( s.zeros( len(y_pred1)) )\n",
    "for i in range(0,len(y_pred1)):\n",
    "    h_loss=0\n",
    "    for j in range(0,3):\n",
    "        if (y_pred[j][i] != y_test.iloc[i,j]):\n",
    "            h_loss= h_loss +1;\n",
    "        h_loss= h_loss/3\n",
    "    hamming_loss[i]= h_loss\n",
    "hamming_loss_value= hamming_loss.mean() "
   ]
  },
  {
   "cell_type": "code",
   "execution_count": 19,
   "metadata": {
    "colab": {
     "autoexec": {
      "startup": false,
      "wait_interval": 0
     },
     "base_uri": "https://localhost:8080/",
     "height": 34
    },
    "colab_type": "code",
    "executionInfo": {
     "elapsed": 282,
     "status": "ok",
     "timestamp": 1531807782337,
     "user": {
      "displayName": "Lubdha Pimpale",
      "photoUrl": "https://lh3.googleusercontent.com/a/default-user=s128",
      "userId": "105610488684948453539"
     },
     "user_tz": 420
    },
    "id": "0PXXGuDmzxO5",
    "outputId": "3faceabf-075d-43d6-c1a4-2eefdbadd4c3"
   },
   "outputs": [
    {
     "data": {
      "text/plain": [
       "0.024668485066817625"
      ]
     },
     "execution_count": 19,
     "metadata": {
      "tags": []
     },
     "output_type": "execute_result"
    }
   ],
   "source": [
    "hamming_loss_value"
   ]
  },
  {
   "cell_type": "markdown",
   "metadata": {
    "colab_type": "text",
    "id": "KR_wr_tizxO8"
   },
   "source": [
    "### iv. Repeat 1(b)iii by using SMOTE to remedy class imbalance. "
   ]
  },
  {
   "cell_type": "code",
   "execution_count": 0,
   "metadata": {
    "colab": {
     "autoexec": {
      "startup": false,
      "wait_interval": 0
     }
    },
    "colab_type": "code",
    "id": "zKQFyQ0dzxO8"
   },
   "outputs": [],
   "source": [
    "smote = SMOTE( kind='svm' )\n",
    "X_smote1, y_smote1 = smote.fit_sample( X_train, y_train.iloc[:,0])\n",
    "X_smote2, y_smote2 = smote.fit_sample( X_train, y_train.iloc[:,1])\n",
    "X_smote3, y_smote3 = smote.fit_sample( X_train, y_train.iloc[:,2])"
   ]
  },
  {
   "cell_type": "code",
   "execution_count": 0,
   "metadata": {
    "colab": {
     "autoexec": {
      "startup": false,
      "wait_interval": 0
     }
    },
    "colab_type": "code",
    "id": "-4ezw0TtzxO_"
   },
   "outputs": [],
   "source": [
    "X_smote= [X_smote1, X_smote2, X_smote3 ]\n",
    "y_smote=[y_smote1, y_smote2, y_smote3]"
   ]
  },
  {
   "cell_type": "code",
   "execution_count": 0,
   "metadata": {
    "colab": {
     "autoexec": {
      "startup": false,
      "wait_interval": 0
     }
    },
    "colab_type": "code",
    "id": "V7nJGSLLzxPC"
   },
   "outputs": [],
   "source": [
    "cv_score=[0,0,0]\n",
    "cv_score_best=[0,0,0]\n",
    "c_best=[0,0,0]"
   ]
  },
  {
   "cell_type": "code",
   "execution_count": 0,
   "metadata": {
    "colab": {
     "autoexec": {
      "startup": false,
      "wait_interval": 0
     }
    },
    "colab_type": "code",
    "id": "AXds6FdHzxPF"
   },
   "outputs": [],
   "source": [
    "for i in range(0,3):\n",
    "    for c in range(-3,4):\n",
    "        cv_score[i]= cross_val_score(LinearSVC(penalty ='l1',C= 10**c, dual=False),X_smote[i],y_smote[i], cv=10, scoring='accuracy').mean()\n",
    "        if cv_score[i]> cv_score_best[i]:\n",
    "            cv_score_best[i]= cv_score[i]\n",
    "            c_best[i]= 10**c"
   ]
  },
  {
   "cell_type": "code",
   "execution_count": 0,
   "metadata": {
    "colab": {
     "autoexec": {
      "startup": false,
      "wait_interval": 0
     }
    },
    "colab_type": "code",
    "id": "B2jXqMrKzxPH",
    "outputId": "06e928c0-71ae-4f02-b06a-491be62e92d3"
   },
   "outputs": [
    {
     "data": {
      "text/plain": [
       "[100, 100, 100]"
      ]
     },
     "execution_count": 472,
     "metadata": {
      "tags": []
     },
     "output_type": "execute_result"
    }
   ],
   "source": [
    "c_best"
   ]
  },
  {
   "cell_type": "code",
   "execution_count": 0,
   "metadata": {
    "colab": {
     "autoexec": {
      "startup": false,
      "wait_interval": 0
     }
    },
    "colab_type": "code",
    "id": "YptNcJClzxPK"
   },
   "outputs": [],
   "source": [
    "classifier1 = LinearSVC(penalty='l1', C= c_best[0],dual=False)\n",
    "clf1 = classifier1.fit(X_smote[0],y_smote[0])\n",
    "y_pred1= clf1.predict(X_test)\n",
    "\n",
    "classifier2 = LinearSVC(penalty='l1', C= c_best[1], dual= False)\n",
    "clf2 = classifier2.fit(X_smote[1],y_smote[1])\n",
    "y_pred2= clf2.predict(X_test)\n",
    "\n",
    "classifier3 = LinearSVC(penalty='l1', C= c_best[2], dual= False)\n",
    "clf3 = classifier3.fit(X_smote[2],y_smote[2])\n",
    "y_pred3= clf3.predict(X_test)"
   ]
  },
  {
   "cell_type": "code",
   "execution_count": 0,
   "metadata": {
    "colab": {
     "autoexec": {
      "startup": false,
      "wait_interval": 0
     }
    },
    "colab_type": "code",
    "id": "8OMW0xy-zxPN"
   },
   "outputs": [],
   "source": [
    "y_pred= [y_pred1, y_pred2, y_pred3]"
   ]
  },
  {
   "cell_type": "code",
   "execution_count": 0,
   "metadata": {
    "colab": {
     "autoexec": {
      "startup": false,
      "wait_interval": 0
     }
    },
    "colab_type": "code",
    "id": "OwGZrdSOzxPP"
   },
   "outputs": [],
   "source": [
    "exact_match=0\n",
    "for i in range(0, len(y_pred1)):\n",
    "    if (y_pred1[i]== y_test.iloc[i,0] and y_pred2[i]== y_test.iloc[i,1] and y_pred3[i]== y_test.iloc[i,2]):\n",
    "        exact_match = exact_match +1\n",
    "exact_match= exact_match/len(y_pred1)"
   ]
  },
  {
   "cell_type": "code",
   "execution_count": 0,
   "metadata": {
    "colab": {
     "autoexec": {
      "startup": false,
      "wait_interval": 0
     }
    },
    "colab_type": "code",
    "id": "GpgRXWV4zxPT",
    "outputId": "8d465a10-af05-4c7c-d9a9-39d205f8da74"
   },
   "outputs": [
    {
     "data": {
      "text/plain": [
       "0.8119499768411301"
      ]
     },
     "execution_count": 476,
     "metadata": {
      "tags": []
     },
     "output_type": "execute_result"
    }
   ],
   "source": [
    "exact_match"
   ]
  },
  {
   "cell_type": "code",
   "execution_count": 0,
   "metadata": {
    "colab": {
     "autoexec": {
      "startup": false,
      "wait_interval": 0
     }
    },
    "colab_type": "code",
    "id": "HNYeG95DzxPX"
   },
   "outputs": [],
   "source": [
    "hamming_loss= pd.Series( s.zeros( len(y_pred1)) )\n",
    "for i in range(0,len(y_pred1)):\n",
    "    h_loss=0\n",
    "    for j in range(0,3):\n",
    "        if (y_pred[j][i] != y_test.iloc[i,j]):\n",
    "            h_loss= h_loss +1;\n",
    "        h_loss= h_loss/3\n",
    "    hamming_loss[i]= h_loss\n",
    "hamming_loss_value= hamming_loss.mean() "
   ]
  },
  {
   "cell_type": "code",
   "execution_count": 0,
   "metadata": {
    "colab": {
     "autoexec": {
      "startup": false,
      "wait_interval": 0
     }
    },
    "colab_type": "code",
    "id": "WCZbO6MFzxPZ",
    "outputId": "b2b3437e-1d75-417d-95ad-375d834704fe"
   },
   "outputs": [
    {
     "data": {
      "text/plain": [
       "0.04662652462559831"
      ]
     },
     "execution_count": 478,
     "metadata": {
      "tags": []
     },
     "output_type": "execute_result"
    }
   ],
   "source": [
    "hamming_loss_value"
   ]
  },
  {
   "cell_type": "markdown",
   "metadata": {
    "colab_type": "text",
    "id": "0iSJ0mzbzxPd"
   },
   "source": [
    "### Conclusion"
   ]
  },
  {
   "cell_type": "markdown",
   "metadata": {
    "colab_type": "text",
    "id": "36Ql0kmezxPe"
   },
   "source": [
    "SVM with Gaussian Kernel gives the maximum exact match and minimum hamming score.\n",
    "For Linear Kernel, Using SMOTE exact match reduces and hamming score increases as compared to Linear Kernel on data directly."
   ]
  }
 ],
 "metadata": {
  "colab": {
   "collapsed_sections": [],
   "default_view": {},
   "name": "Untitled5.ipynb",
   "provenance": [],
   "version": "0.3.2",
   "views": {}
  },
  "kernelspec": {
   "display_name": "Python 3",
   "language": "python",
   "name": "python3"
  },
  "language_info": {
   "codemirror_mode": {
    "name": "ipython",
    "version": 3
   },
   "file_extension": ".py",
   "mimetype": "text/x-python",
   "name": "python",
   "nbconvert_exporter": "python",
   "pygments_lexer": "ipython3",
   "version": "3.7.3"
  }
 },
 "nbformat": 4,
 "nbformat_minor": 1
}
